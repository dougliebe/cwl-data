{
 "cells": [
  {
   "cell_type": "code",
   "execution_count": 10,
   "metadata": {},
   "outputs": [],
   "source": [
    "import pandas as pd\n",
    "import os\n",
    "import json\n",
    "\n",
    "# Define the path to the output folder\n",
    "output_folder = '/workspaces/cwl-data/output/structured-2018-04-08-proleague1'\n",
    "\n",
    "# Initialize an empty list to store the death events\n",
    "death_events = []\n",
    "\n",
    "# Loop through all files in the output folder\n",
    "for filename in [os.listdir(output_folder)[0]]:\n",
    "    if filename.endswith('.json'):\n",
    "        file_path = os.path.join(output_folder, filename)\n",
    "        with open(file_path, 'r') as file:\n",
    "            json_data = json.load(file)\n",
    "            events = json_data.get('events', [])\n",
    "            for event in events:\n",
    "                if event['type'] == 'death':\n",
    "                    death_events.append(event)"
   ]
  },
  {
   "cell_type": "code",
   "execution_count": 12,
   "metadata": {},
   "outputs": [
    {
     "data": {
      "text/plain": [
       "(72629, 7)"
      ]
     },
     "execution_count": 12,
     "metadata": {},
     "output_type": "execute_result"
    }
   ],
   "source": [
    "## read in /workspaces/cwl-data/death_events.csv\n",
    "death_events_df = pd.read_csv('/workspaces/cwl-data/death_events.csv')\n",
    "## shape\n",
    "death_events_df.shape\n"
   ]
  },
  {
   "cell_type": "code",
   "execution_count": null,
   "metadata": {},
   "outputs": [],
   "source": []
  }
 ],
 "metadata": {
  "kernelspec": {
   "display_name": "Python 3",
   "language": "python",
   "name": "python3"
  },
  "language_info": {
   "codemirror_mode": {
    "name": "ipython",
    "version": 3
   },
   "file_extension": ".py",
   "mimetype": "text/x-python",
   "name": "python",
   "nbconvert_exporter": "python",
   "pygments_lexer": "ipython3",
   "version": "3.12.1"
  }
 },
 "nbformat": 4,
 "nbformat_minor": 2
}
